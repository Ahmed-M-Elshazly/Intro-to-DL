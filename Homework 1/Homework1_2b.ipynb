{
  "cells": [
    {
      "cell_type": "markdown",
      "metadata": {
        "id": "view-in-github"
      },
      "source": [
        "<a href=\"https://colab.research.google.com/github/Ahmed-M-Elshazly/Homework-6/blob/main/Homework_6_Problem_1_a_.ipynb\" target=\"_parent\"><img src=\"https://colab.research.google.com/assets/colab-badge.svg\" alt=\"Open In Colab\"/></a>"
      ]
    },
    {
      "cell_type": "markdown",
      "metadata": {
        "id": "ht4n7OYbzbA9"
      },
      "source": [
        "#Homework 6\n",
        "#Problem 2-b\n",
        "#Ahmed Elshazly\n",
        "#801420724"
      ]
    },
    {
      "cell_type": "code",
      "execution_count": null,
      "metadata": {
        "id": "GqogVQUaiIcW"
      },
      "outputs": [],
      "source": [
        "import torch\n",
        "import torch.optim as optim\n",
        "import torch.nn as nn\n",
        "from torch.utils.data import DataLoader, TensorDataset\n",
        "import matplotlib.pyplot as plt\n",
        "import pandas as pd\n",
        "import numpy as np\n",
        "from sklearn.preprocessing import StandardScaler\n",
        "from sklearn.model_selection import train_test_split\n",
        "import seaborn as sns\n",
        "from sklearn import metrics\n",
        "import time\n",
        "from datetime import timedelta\n",
        "from sklearn.metrics import mean_squared_error, r2_score\n",
        "from sklearn.preprocessing import OneHotEncoder"
      ]
    },
    {
      "cell_type": "code",
      "execution_count": null,
      "metadata": {
        "colab": {
          "base_uri": "https://localhost:8080/",
          "height": 206
        },
        "id": "6TmrkM7JnuX3",
        "outputId": "5c341097-ec00-4cd0-9c42-5ab09e43b23d"
      },
      "outputs": [
        {
          "data": {
            "text/html": [
              "<div>\n",
              "<style scoped>\n",
              "    .dataframe tbody tr th:only-of-type {\n",
              "        vertical-align: middle;\n",
              "    }\n",
              "\n",
              "    .dataframe tbody tr th {\n",
              "        vertical-align: top;\n",
              "    }\n",
              "\n",
              "    .dataframe thead th {\n",
              "        text-align: right;\n",
              "    }\n",
              "</style>\n",
              "<table border=\"1\" class=\"dataframe\">\n",
              "  <thead>\n",
              "    <tr style=\"text-align: right;\">\n",
              "      <th></th>\n",
              "      <th>price</th>\n",
              "      <th>area</th>\n",
              "      <th>bedrooms</th>\n",
              "      <th>bathrooms</th>\n",
              "      <th>stories</th>\n",
              "      <th>mainroad</th>\n",
              "      <th>guestroom</th>\n",
              "      <th>basement</th>\n",
              "      <th>hotwaterheating</th>\n",
              "      <th>airconditioning</th>\n",
              "      <th>parking</th>\n",
              "      <th>prefarea</th>\n",
              "      <th>furnishingstatus</th>\n",
              "    </tr>\n",
              "  </thead>\n",
              "  <tbody>\n",
              "    <tr>\n",
              "      <th>0</th>\n",
              "      <td>13300000</td>\n",
              "      <td>7420</td>\n",
              "      <td>4</td>\n",
              "      <td>2</td>\n",
              "      <td>3</td>\n",
              "      <td>yes</td>\n",
              "      <td>no</td>\n",
              "      <td>no</td>\n",
              "      <td>no</td>\n",
              "      <td>yes</td>\n",
              "      <td>2</td>\n",
              "      <td>yes</td>\n",
              "      <td>furnished</td>\n",
              "    </tr>\n",
              "    <tr>\n",
              "      <th>1</th>\n",
              "      <td>12250000</td>\n",
              "      <td>8960</td>\n",
              "      <td>4</td>\n",
              "      <td>4</td>\n",
              "      <td>4</td>\n",
              "      <td>yes</td>\n",
              "      <td>no</td>\n",
              "      <td>no</td>\n",
              "      <td>no</td>\n",
              "      <td>yes</td>\n",
              "      <td>3</td>\n",
              "      <td>no</td>\n",
              "      <td>furnished</td>\n",
              "    </tr>\n",
              "    <tr>\n",
              "      <th>2</th>\n",
              "      <td>12250000</td>\n",
              "      <td>9960</td>\n",
              "      <td>3</td>\n",
              "      <td>2</td>\n",
              "      <td>2</td>\n",
              "      <td>yes</td>\n",
              "      <td>no</td>\n",
              "      <td>yes</td>\n",
              "      <td>no</td>\n",
              "      <td>no</td>\n",
              "      <td>2</td>\n",
              "      <td>yes</td>\n",
              "      <td>semi-furnished</td>\n",
              "    </tr>\n",
              "    <tr>\n",
              "      <th>3</th>\n",
              "      <td>12215000</td>\n",
              "      <td>7500</td>\n",
              "      <td>4</td>\n",
              "      <td>2</td>\n",
              "      <td>2</td>\n",
              "      <td>yes</td>\n",
              "      <td>no</td>\n",
              "      <td>yes</td>\n",
              "      <td>no</td>\n",
              "      <td>yes</td>\n",
              "      <td>3</td>\n",
              "      <td>yes</td>\n",
              "      <td>furnished</td>\n",
              "    </tr>\n",
              "    <tr>\n",
              "      <th>4</th>\n",
              "      <td>11410000</td>\n",
              "      <td>7420</td>\n",
              "      <td>4</td>\n",
              "      <td>1</td>\n",
              "      <td>2</td>\n",
              "      <td>yes</td>\n",
              "      <td>yes</td>\n",
              "      <td>yes</td>\n",
              "      <td>no</td>\n",
              "      <td>yes</td>\n",
              "      <td>2</td>\n",
              "      <td>no</td>\n",
              "      <td>furnished</td>\n",
              "    </tr>\n",
              "  </tbody>\n",
              "</table>\n",
              "</div>"
            ],
            "text/plain": [
              "      price  area  bedrooms  bathrooms  stories mainroad guestroom basement  \\\n",
              "0  13300000  7420         4          2        3      yes        no       no   \n",
              "1  12250000  8960         4          4        4      yes        no       no   \n",
              "2  12250000  9960         3          2        2      yes        no      yes   \n",
              "3  12215000  7500         4          2        2      yes        no      yes   \n",
              "4  11410000  7420         4          1        2      yes       yes      yes   \n",
              "\n",
              "  hotwaterheating airconditioning  parking prefarea furnishingstatus  \n",
              "0              no             yes        2      yes        furnished  \n",
              "1              no             yes        3       no        furnished  \n",
              "2              no              no        2      yes   semi-furnished  \n",
              "3              no             yes        3      yes        furnished  \n",
              "4              no             yes        2       no        furnished  "
            ]
          },
          "execution_count": 115,
          "metadata": {},
          "output_type": "execute_result"
        }
      ],
      "source": [
        "file_path = url = 'https://raw.githubusercontent.com/Ahmed-M-Elshazly/Database/main/Housing.csv'\n",
        "housing = pd.DataFrame(pd.read_csv(file_path))\n",
        "housing.head()"
      ]
    },
    {
      "cell_type": "code",
      "execution_count": null,
      "metadata": {
        "id": "sET9LaGVnvKf"
      },
      "outputs": [],
      "source": []
    },
    {
      "cell_type": "code",
      "execution_count": null,
      "metadata": {
        "id": "JWzmAvp2oLB7",
        "outputId": "2f3cf840-50bf-4a3e-9f18-f662e193b9bb"
      },
      "outputs": [
        {
          "name": "stdout",
          "output_type": "stream",
          "text": [
            "      price  area  bedrooms  bathrooms  stories  parking  mainroad_yes  \\\n",
            "0  13300000  7420         4          2        3        2           1.0   \n",
            "1  12250000  8960         4          4        4        3           1.0   \n",
            "2  12250000  9960         3          2        2        2           1.0   \n",
            "3  12215000  7500         4          2        2        3           1.0   \n",
            "4  11410000  7420         4          1        2        2           1.0   \n",
            "\n",
            "   guestroom_yes  basement_yes  hotwaterheating_yes  airconditioning_yes  \\\n",
            "0            0.0           0.0                  0.0                  1.0   \n",
            "1            0.0           0.0                  0.0                  1.0   \n",
            "2            0.0           1.0                  0.0                  0.0   \n",
            "3            0.0           1.0                  0.0                  1.0   \n",
            "4            1.0           1.0                  0.0                  1.0   \n",
            "\n",
            "   prefarea_yes  furnishingstatus_furnished  furnishingstatus_semi-furnished  \\\n",
            "0           1.0                         1.0                              0.0   \n",
            "1           0.0                         1.0                              0.0   \n",
            "2           1.0                         0.0                              1.0   \n",
            "3           1.0                         1.0                              0.0   \n",
            "4           0.0                         1.0                              0.0   \n",
            "\n",
            "   furnishingstatus_unfurnished  \n",
            "0                           0.0  \n",
            "1                           0.0  \n",
            "2                           0.0  \n",
            "3                           0.0  \n",
            "4                           0.0  \n"
          ]
        }
      ],
      "source": [
        "drop_first_columns = ['mainroad', 'guestroom', 'basement', 'hotwaterheating', 'airconditioning', 'prefarea']\n",
        "no_drop_first_columns = ['furnishingstatus']\n",
        "\n",
        "\n",
        "encoder_drop_first = OneHotEncoder(drop='first', sparse_output=False)\n",
        "encoder_no_drop_first = OneHotEncoder(drop=None, sparse_output=False)\n",
        "\n",
        "\n",
        "encoded_drop_first = encoder_drop_first.fit_transform(housing[drop_first_columns])\n",
        "encoded_drop_first_df = pd.DataFrame(encoded_drop_first, columns=encoder_drop_first.get_feature_names_out(drop_first_columns))\n",
        "\n",
        "\n",
        "encoded_no_drop_first = encoder_no_drop_first.fit_transform(housing[no_drop_first_columns])\n",
        "encoded_no_drop_first_df = pd.DataFrame(encoded_no_drop_first, columns=encoder_no_drop_first.get_feature_names_out(no_drop_first_columns))\n",
        "\n",
        "\n",
        "housing_encoded = housing.drop(columns=drop_first_columns + no_drop_first_columns)\n",
        "\n",
        "\n",
        "df_pandas_encoded = pd.concat([housing_encoded, encoded_drop_first_df, encoded_no_drop_first_df], axis=1)\n",
        "\n",
        "\n",
        "print(df_pandas_encoded.head())"
      ]
    },
    {
      "cell_type": "code",
      "execution_count": null,
      "metadata": {
        "colab": {
          "base_uri": "https://localhost:8080/",
          "height": 241
        },
        "id": "WAlXNCeRny7_",
        "outputId": "f564342b-580d-42af-d9c2-d45cf970ddb5"
      },
      "outputs": [
        {
          "data": {
            "text/html": [
              "<div>\n",
              "<style scoped>\n",
              "    .dataframe tbody tr th:only-of-type {\n",
              "        vertical-align: middle;\n",
              "    }\n",
              "\n",
              "    .dataframe tbody tr th {\n",
              "        vertical-align: top;\n",
              "    }\n",
              "\n",
              "    .dataframe thead th {\n",
              "        text-align: right;\n",
              "    }\n",
              "</style>\n",
              "<table border=\"1\" class=\"dataframe\">\n",
              "  <thead>\n",
              "    <tr style=\"text-align: right;\">\n",
              "      <th></th>\n",
              "      <th>area</th>\n",
              "      <th>bedrooms</th>\n",
              "      <th>bathrooms</th>\n",
              "      <th>stories</th>\n",
              "      <th>parking</th>\n",
              "      <th>mainroad_yes</th>\n",
              "      <th>guestroom_yes</th>\n",
              "      <th>basement_yes</th>\n",
              "      <th>hotwaterheating_yes</th>\n",
              "      <th>airconditioning_yes</th>\n",
              "      <th>prefarea_yes</th>\n",
              "      <th>furnishingstatus_furnished</th>\n",
              "      <th>furnishingstatus_semi-furnished</th>\n",
              "      <th>furnishingstatus_unfurnished</th>\n",
              "    </tr>\n",
              "  </thead>\n",
              "  <tbody>\n",
              "    <tr>\n",
              "      <th>0</th>\n",
              "      <td>1.046726</td>\n",
              "      <td>1.403419</td>\n",
              "      <td>1.421812</td>\n",
              "      <td>1.378217</td>\n",
              "      <td>1.517692</td>\n",
              "      <td>1.0</td>\n",
              "      <td>0.0</td>\n",
              "      <td>0.0</td>\n",
              "      <td>0.0</td>\n",
              "      <td>1.0</td>\n",
              "      <td>1.0</td>\n",
              "      <td>1.0</td>\n",
              "      <td>0.0</td>\n",
              "      <td>0.0</td>\n",
              "    </tr>\n",
              "    <tr>\n",
              "      <th>1</th>\n",
              "      <td>1.757010</td>\n",
              "      <td>1.403419</td>\n",
              "      <td>5.405809</td>\n",
              "      <td>2.532024</td>\n",
              "      <td>2.679409</td>\n",
              "      <td>1.0</td>\n",
              "      <td>0.0</td>\n",
              "      <td>0.0</td>\n",
              "      <td>0.0</td>\n",
              "      <td>1.0</td>\n",
              "      <td>0.0</td>\n",
              "      <td>1.0</td>\n",
              "      <td>0.0</td>\n",
              "      <td>0.0</td>\n",
              "    </tr>\n",
              "    <tr>\n",
              "      <th>2</th>\n",
              "      <td>2.218232</td>\n",
              "      <td>0.047278</td>\n",
              "      <td>1.421812</td>\n",
              "      <td>0.224410</td>\n",
              "      <td>1.517692</td>\n",
              "      <td>1.0</td>\n",
              "      <td>0.0</td>\n",
              "      <td>1.0</td>\n",
              "      <td>0.0</td>\n",
              "      <td>0.0</td>\n",
              "      <td>1.0</td>\n",
              "      <td>0.0</td>\n",
              "      <td>1.0</td>\n",
              "      <td>0.0</td>\n",
              "    </tr>\n",
              "    <tr>\n",
              "      <th>3</th>\n",
              "      <td>1.083624</td>\n",
              "      <td>1.403419</td>\n",
              "      <td>1.421812</td>\n",
              "      <td>0.224410</td>\n",
              "      <td>2.679409</td>\n",
              "      <td>1.0</td>\n",
              "      <td>0.0</td>\n",
              "      <td>1.0</td>\n",
              "      <td>0.0</td>\n",
              "      <td>1.0</td>\n",
              "      <td>1.0</td>\n",
              "      <td>1.0</td>\n",
              "      <td>0.0</td>\n",
              "      <td>0.0</td>\n",
              "    </tr>\n",
              "    <tr>\n",
              "      <th>4</th>\n",
              "      <td>1.046726</td>\n",
              "      <td>1.403419</td>\n",
              "      <td>-0.570187</td>\n",
              "      <td>0.224410</td>\n",
              "      <td>1.517692</td>\n",
              "      <td>1.0</td>\n",
              "      <td>1.0</td>\n",
              "      <td>1.0</td>\n",
              "      <td>0.0</td>\n",
              "      <td>1.0</td>\n",
              "      <td>0.0</td>\n",
              "      <td>1.0</td>\n",
              "      <td>0.0</td>\n",
              "      <td>0.0</td>\n",
              "    </tr>\n",
              "  </tbody>\n",
              "</table>\n",
              "</div>"
            ],
            "text/plain": [
              "       area  bedrooms  bathrooms   stories   parking  mainroad_yes  \\\n",
              "0  1.046726  1.403419   1.421812  1.378217  1.517692           1.0   \n",
              "1  1.757010  1.403419   5.405809  2.532024  2.679409           1.0   \n",
              "2  2.218232  0.047278   1.421812  0.224410  1.517692           1.0   \n",
              "3  1.083624  1.403419   1.421812  0.224410  2.679409           1.0   \n",
              "4  1.046726  1.403419  -0.570187  0.224410  1.517692           1.0   \n",
              "\n",
              "   guestroom_yes  basement_yes  hotwaterheating_yes  airconditioning_yes  \\\n",
              "0            0.0           0.0                  0.0                  1.0   \n",
              "1            0.0           0.0                  0.0                  1.0   \n",
              "2            0.0           1.0                  0.0                  0.0   \n",
              "3            0.0           1.0                  0.0                  1.0   \n",
              "4            1.0           1.0                  0.0                  1.0   \n",
              "\n",
              "   prefarea_yes  furnishingstatus_furnished  furnishingstatus_semi-furnished  \\\n",
              "0           1.0                         1.0                              0.0   \n",
              "1           0.0                         1.0                              0.0   \n",
              "2           1.0                         0.0                              1.0   \n",
              "3           1.0                         1.0                              0.0   \n",
              "4           0.0                         1.0                              0.0   \n",
              "\n",
              "   furnishingstatus_unfurnished  \n",
              "0                           0.0  \n",
              "1                           0.0  \n",
              "2                           0.0  \n",
              "3                           0.0  \n",
              "4                           0.0  "
            ]
          },
          "execution_count": 117,
          "metadata": {},
          "output_type": "execute_result"
        }
      ],
      "source": [
        "stander=StandardScaler()\n",
        "num_vars = ['area', 'bedrooms', 'bathrooms', 'stories', 'parking']\n",
        "df_pandas_encoded[num_vars] = stander.fit_transform(df_pandas_encoded[num_vars])\n",
        "Y=df_pandas_encoded.pop(\"price\")\n",
        "X=df_pandas_encoded\n",
        "X.head()"
      ]
    },
    {
      "cell_type": "code",
      "execution_count": null,
      "metadata": {
        "id": "dvmSfq-5n3TO"
      },
      "outputs": [],
      "source": [
        "X = torch.tensor(X.values)\n",
        "Y = torch.tensor(Y.values)\n",
        "n_samples=X.shape[0]\n",
        "n_val=int(0.2*n_samples)\n",
        "shuffled_indices=torch.randperm(n_samples)\n",
        "\n",
        "train_indices=shuffled_indices[ : -n_val]\n",
        "val_indices=shuffled_indices[-n_val :]\n",
        "\n",
        "train_X=X[train_indices]\n",
        "train_Y=Y[train_indices]\n",
        "\n",
        "val_X=X[val_indices]\n",
        "val_Y=Y[val_indices]\n",
        "\n",
        "train_X = train_X.float()\n",
        "val_X = val_X.float()\n",
        "train_Y = train_Y.float()\n",
        "val_Y = val_Y.float()"
      ]
    },
    {
      "cell_type": "code",
      "execution_count": null,
      "metadata": {
        "colab": {
          "base_uri": "https://localhost:8080/"
        },
        "id": "llTkFeE6oIa0",
        "outputId": "b2821160-f357-4cde-da3a-e82d35ec38c0"
      },
      "outputs": [
        {
          "data": {
            "text/plain": [
              "14"
            ]
          },
          "execution_count": 119,
          "metadata": {},
          "output_type": "execute_result"
        }
      ],
      "source": [
        "train_X.shape[1]"
      ]
    },
    {
      "cell_type": "code",
      "execution_count": null,
      "metadata": {
        "id": "mZjkXT6SqDa2"
      },
      "outputs": [],
      "source": []
    },
    {
      "cell_type": "code",
      "execution_count": null,
      "metadata": {
        "id": "VwcX3gYfq6M7"
      },
      "outputs": [],
      "source": [
        "def train (n_epochs, model, optimizer, loss_fn, x_train, y_train, x_val, y_val):\n",
        "  train_rmse_list = []\n",
        "  val_rmse_list = []\n",
        "  r2_list = []\n",
        "  for epoch in range(n_epochs+1):\n",
        "    train_x_p = model(x_train).squeeze(-1)\n",
        "    train_loss=loss_fn(train_x_p,y_train)\n",
        "\n",
        "    with torch.no_grad():\n",
        "      val_x_p = model(x_val).squeeze(-1)\n",
        "      val_loss=loss_fn(val_x_p,y_val)\n",
        "      #assert val_loss.requires_grad==False\n",
        "\n",
        "      r2 = r2_score(val_x_p,y_val)\n",
        "\n",
        "\n",
        "    optimizer.zero_grad()\n",
        "    train_loss.backward()\n",
        "    optimizer.step()\n",
        "\n",
        "    train_rmse = torch.sqrt(train_loss).detach().item()\n",
        "    train_rmse_list.append(train_rmse)\n",
        "    val_rmse = torch.sqrt(val_loss).detach().item()\n",
        "    val_rmse_list.append(val_rmse)\n",
        "\n",
        "    r2_list.append(r2)\n",
        "\n",
        "    if epoch % 500==0:\n",
        "      print(f\"Epoch {epoch}, Training RMSE {train_rmse:.4f}, Validation RMSE {val_rmse:.4f} , R2 {r2:.4f}\")\n",
        "\n",
        "  y_test_pred = model(x_val).squeeze(-1).detach()\n",
        "  plt.figure(figsize=(10, 6))\n",
        "  plt.plot([min(y_val), max(y_val)], [min(y_val), max(y_val)], color='red', linestyle='--')\n",
        "  plt.scatter(y_val, y_test_pred)\n",
        "  plt.title(\"Neural Network: Predictions vs Ground Truths (Test Set)\")\n",
        "  plt.xlabel(\"Ground Truths\")\n",
        "  plt.ylabel(\"Preedictions\")\n",
        "\n",
        "  return train_rmse_list, val_rmse_list, r2_list"
      ]
    },
    {
      "cell_type": "code",
      "execution_count": null,
      "metadata": {
        "id": "4nfFCm1o7Bul"
      },
      "outputs": [],
      "source": [
        "def get_model_size(model):\n",
        "    total_params = sum(p.numel() for p in model.parameters())\n",
        "    trainable_params = sum(p.numel() for p in model.parameters() if p.requires_grad)\n",
        "    return total_params, trainable_params"
      ]
    },
    {
      "cell_type": "code",
      "execution_count": null,
      "metadata": {
        "colab": {
          "base_uri": "https://localhost:8080/",
          "height": 930
        },
        "id": "pjpfiJp5rgpb",
        "outputId": "dfa07663-69e8-4549-9dea-34c955e97a99"
      },
      "outputs": [
        {
          "name": "stdout",
          "output_type": "stream",
          "text": [
            "Epoch 0, Training RMSE 5197358.0000, Validation RMSE 4797816.0000 , R2 -12601476149145780.0000\n",
            "Epoch 500, Training RMSE 2145043.2500, Validation RMSE 2287973.0000 , R2 -0.0513\n",
            "Epoch 1000, Training RMSE 1195672.7500, Validation RMSE 1208083.3750 , R2 0.5731\n",
            "Epoch 1500, Training RMSE 1127651.7500, Validation RMSE 1119858.6250 , R2 0.5789\n",
            "Epoch 2000, Training RMSE 1100157.6250, Validation RMSE 1075072.2500 , R2 0.5793\n",
            "Epoch 2500, Training RMSE 1086834.2500, Validation RMSE 1055084.0000 , R2 0.5746\n",
            "Epoch 3000, Training RMSE 1077430.8750, Validation RMSE 1046730.0625 , R2 0.5687\n",
            "Epoch 3500, Training RMSE 1069976.6250, Validation RMSE 1043243.0625 , R2 0.5627\n",
            "Epoch 4000, Training RMSE 1064648.5000, Validation RMSE 1042475.8750 , R2 0.5565\n",
            "Epoch 4500, Training RMSE 1061528.3750, Validation RMSE 1043669.1250 , R2 0.5505\n",
            "Epoch 5000, Training RMSE 1060147.0000, Validation RMSE 1045775.8125 , R2 0.5453\n",
            "Epoch 5500, Training RMSE 1059724.3750, Validation RMSE 1047638.3125 , R2 0.5418\n",
            "Epoch 6000, Training RMSE 1059643.6250, Validation RMSE 1048705.5000 , R2 0.5400\n",
            "Epoch 6500, Training RMSE 1059635.0000, Validation RMSE 1049116.2500 , R2 0.5394\n",
            "Epoch 7000, Training RMSE 1059634.5000, Validation RMSE 1049220.0000 , R2 0.5392\n",
            "Epoch 7500, Training RMSE 1059634.5000, Validation RMSE 1049235.8750 , R2 0.5392\n",
            "Epoch 8000, Training RMSE 1059634.5000, Validation RMSE 1049237.1250 , R2 0.5392\n",
            "Epoch 8500, Training RMSE 1059634.5000, Validation RMSE 1049237.2500 , R2 0.5392\n",
            "Epoch 9000, Training RMSE 1059634.5000, Validation RMSE 1049237.2500 , R2 0.5392\n",
            "Epoch 9500, Training RMSE 1059634.5000, Validation RMSE 1049237.2500 , R2 0.5392\n",
            "Epoch 10000, Training RMSE 1059634.5000, Validation RMSE 1049237.2500 , R2 0.5392\n",
            "Training time for learning rate 0.01: 0:00:11.566071\n",
            "Model with learning rate 0.01:\n",
            "  Total parameters: 3073\n",
            "  Trainable parameters: 3073\n"
          ]
        },
        {
          "data": {
            "image/png": "[encoded data removed]",
            "text/plain": [
              "<Figure size 1000x600 with 1 Axes>"
            ]
          },
          "metadata": {},
          "output_type": "display_data"
        },
        {
          "data": {
            "image/png": "[encoded data removed]",
            "text/plain": [
              "<Figure size 1000x600 with 1 Axes>"
            ]
          },
          "metadata": {},
          "output_type": "display_data"
        },
        {
          "data": {
            "image/png": "[encoded data removed]",
            "text/plain": [
              "<Figure size 1000x600 with 1 Axes>"
            ]
          },
          "metadata": {},
          "output_type": "display_data"
        }
      ],
      "source": [
        "number_of_epochs=10000\n",
        "learning_rate=0.01\n",
        "linear_model = nn.Sequential(\n",
        "    nn.Linear(train_X.shape[1],64),\n",
        "    nn.ReLU(),\n",
        "    nn.Linear(64,32),\n",
        "    nn.ReLU(),\n",
        "    nn.Linear(32, 1)\n",
        ")\n",
        "optimizer = optim.Adam(linear_model.parameters(), lr=learning_rate)\n",
        "start_time = time.time()\n",
        "train_rmse, val_rmse, R2=train(\n",
        "      n_epochs=number_of_epochs,\n",
        "      model=linear_model,\n",
        "      optimizer=optimizer,\n",
        "      loss_fn=nn.MSELoss(),\n",
        "      x_train=train_X,\n",
        "      y_train=train_Y,\n",
        "      x_val=val_X,\n",
        "      y_val=val_Y\n",
        "  )\n",
        "end_time = time.time()\n",
        "elapsed_time = end_time - start_time\n",
        "formatted_time = str(timedelta(seconds=elapsed_time))\n",
        "# Print the training time\n",
        "print(f\"Training time for learning rate {learning_rate}: {formatted_time}\")\n",
        "total_params, trainable_params = get_model_size(linear_model)\n",
        "print(f\"Model with learning rate {learning_rate}:\")\n",
        "print(f\"  Total parameters: {total_params}\")\n",
        "print(f\"  Trainable parameters: {trainable_params}\")\n",
        "#print(f\"Final parameters with learning rate {learning_rate}: {trained_parameters}\")\n",
        "plt.figure(figsize=(10, 6))\n",
        "plt.plot(range(0, number_of_epochs+1), train_rmse, label='Train RMSE', color='blue')\n",
        "plt.plot(range(0, number_of_epochs+1), val_rmse, label='Validation RMSE', color='red')\n",
        "plt.xlabel('Epoch')\n",
        "plt.ylabel('RMSE')\n",
        "plt.title(f'Train and Validation RMSE over Epochs (Learning rate: {learning_rate})')\n",
        "plt.legend()\n",
        "plt.grid(True)\n",
        "plt.show()\n",
        "\n",
        "plt.figure(figsize=(10, 6))\n",
        "plt.plot(range(0, number_of_epochs+1), R2, label='R squared', color='blue')\n",
        "plt.xlabel('Epoch')\n",
        "plt.ylabel('R2')\n",
        "plt.title(f'R squared value (Learning rate: {learning_rate})')\n",
        "plt.legend()\n",
        "plt.grid(True)\n",
        "plt.ylim(-1, 1)\n",
        "plt.show()"
      ]
    },
    {
      "cell_type": "code",
      "execution_count": null,
      "metadata": {
        "id": "mM3j3n0RIWpM"
      },
      "outputs": [],
      "source": []
    },
    {
      "cell_type": "code",
      "execution_count": null,
      "metadata": {
        "id": "KMBfIwF8IWpM"
      },
      "outputs": [],
      "source": []
    },
    {
      "cell_type": "code",
      "execution_count": null,
      "metadata": {
        "id": "_QVMEeZoIWpM"
      },
      "outputs": [],
      "source": []
    }
  ],
  "metadata": {
    "colab": {
      "provenance": []
    },
    "kernelspec": {
      "display_name": "Python 3 (ipykernel)",
      "language": "python",
      "name": "python3"
    },
    "language_info": {
      "codemirror_mode": {
        "name": "ipython",
        "version": 3
      },
      "file_extension": ".py",
      "mimetype": "text/x-python",
      "name": "python",
      "nbconvert_exporter": "python",
      "pygments_lexer": "ipython3",
      "version": "3.12.7"
    }
  },
  "nbformat": 4,
  "nbformat_minor": 0
}